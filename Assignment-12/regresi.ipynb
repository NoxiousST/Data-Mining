{
 "cells": [
  {
   "cell_type": "markdown",
   "metadata": {
    "colab_type": "text",
    "id": "l_LulNCC8z96",
    "pycharm": {
     "name": "#%% md\n"
    }
   },
   "source": [
    "# Simple Linear Regression"
   ]
  },
  {
   "cell_type": "markdown",
   "metadata": {
    "colab_type": "text",
    "id": "xpXdowrE9DxW",
    "pycharm": {
     "name": "#%% md\n"
    }
   },
   "source": [
    "## Importing the libraries"
   ]
  },
  {
   "cell_type": "code",
   "execution_count": 114,
   "metadata": {
    "colab": {},
    "colab_type": "code",
    "id": "nhKd4hWx9GFt",
    "pycharm": {
     "name": "#%%\n"
    }
   },
   "outputs": [],
   "source": [
    "import numpy as np\n",
    "import matplotlib.pyplot as plt\n",
    "import pandas as pd"
   ]
  },
  {
   "cell_type": "markdown",
   "metadata": {
    "colab_type": "text",
    "id": "6JhpWJi59J1p",
    "pycharm": {
     "name": "#%% md\n"
    }
   },
   "source": [
    "## Importing the dataset"
   ]
  },
  {
   "cell_type": "code",
   "execution_count": 115,
   "metadata": {
    "colab": {},
    "colab_type": "code",
    "id": "f8GfYDZ59O18",
    "pycharm": {
     "name": "#%%\n"
    }
   },
   "outputs": [],
   "source": [
    "dataset = pd.read_csv('Happiness.csv')\n",
    "X = dataset.iloc[:, 2].values\n",
    "y = dataset.iloc[:, 3].values"
   ]
  },
  {
   "cell_type": "code",
   "execution_count": 116,
   "outputs": [],
   "source": [
    "X = X.reshape(-1, 1)  # Reshape X into a 2D array with one column\n",
    "y = y.reshape(-1, 1)  # Reshape y into a 2D array with one column"
   ],
   "metadata": {
    "collapsed": false,
    "pycharm": {
     "name": "#%%\n"
    }
   }
  },
  {
   "cell_type": "code",
   "execution_count": 117,
   "metadata": {
    "pycharm": {
     "name": "#%%\n"
    }
   },
   "outputs": [
    {
     "data": {
      "text/plain": "array([[1.305],\n       [1.456],\n       [1.351],\n       [1.343],\n       [1.42 ],\n       [1.361],\n       [1.33 ],\n       [1.268],\n       [1.355],\n       [1.34 ],\n       [1.244],\n       [1.341],\n       [1.01 ],\n       [1.448],\n       [1.34 ],\n       [1.324],\n       [1.576],\n       [1.398],\n       [1.301],\n       [2.096],\n       [1.233],\n       [1.27 ],\n       [1.293],\n       [1.038],\n       [1.131],\n       [1.365],\n       [1.112],\n       [0.986],\n       [1.073],\n       [0.781],\n       [1.093],\n       [1.649],\n       [1.379],\n       [1.529],\n       [1.161],\n       [1.251],\n       [0.96 ],\n       [1.223],\n       [1.21 ],\n       [0.806],\n       [0.668],\n       [1.176],\n       [1.338],\n       [0.719],\n       [1.474],\n       [1.016],\n       [1.264],\n       [0.889],\n       [0.807],\n       [1.197],\n       [1.219],\n       [1.116],\n       [1.148],\n       [1.294],\n       [1.09 ],\n       [0.819],\n       [1.266],\n       [1.229],\n       [1.151],\n       [1.143],\n       [1.229],\n       [0.751],\n       [1.2  ],\n       [0.835],\n       [0.934],\n       [0.855],\n       [0.657],\n       [1.016],\n       [1.171],\n       [0.985],\n       [0.775],\n       [0.62 ],\n       [1.039],\n       [1.148],\n       [0.652],\n       [1.405],\n       [1.188],\n       [0.975],\n       [1.154],\n       [0.965],\n       [1.017],\n       [1.115],\n       [0.982],\n       [0.979],\n       [0.779],\n       [0.989],\n       [1.024],\n       [0.474],\n       [0.959],\n       [0.822],\n       [0.689],\n       [0.53 ],\n       [0.915],\n       [0.914],\n       [0.715],\n       [0.899],\n       [0.796],\n       [0.   ],\n       [0.535],\n       [1.054],\n       [0.425],\n       [0.996],\n       [1.036],\n       [0.642],\n       [0.94 ],\n       [1.059],\n       [0.541],\n       [0.592],\n       [0.429],\n       [0.72 ],\n       [0.9  ],\n       [0.916],\n       [0.256],\n       [0.682],\n       [0.532],\n       [0.918],\n       [1.01 ],\n       [0.37 ],\n       [0.874],\n       [0.549],\n       [0.314],\n       [0.885],\n       [0.198],\n       [0.493],\n       [0.562],\n       [0.557],\n       [0.308],\n       [0.853],\n       [0.816],\n       [0.682],\n       [0.358],\n       [0.069],\n       [0.721],\n       [0.131],\n       [0.322],\n       [0.378],\n       [0.605],\n       [0.793],\n       [0.259],\n       [0.344],\n       [0.472],\n       [0.73 ],\n       [0.262],\n       [0.357],\n       [0.332],\n       [1.017],\n       [0.186],\n       [0.315],\n       [0.076],\n       [0.689],\n       [0.332],\n       [0.442],\n       [0.455],\n       [0.337],\n       [0.024],\n       [0.091]])"
     },
     "execution_count": 117,
     "metadata": {},
     "output_type": "execute_result"
    }
   ],
   "source": [
    "y"
   ]
  },
  {
   "cell_type": "markdown",
   "metadata": {
    "colab_type": "text",
    "id": "AyhQaTwP9RzG",
    "pycharm": {
     "name": "#%% md\n"
    }
   },
   "source": [
    "## Splitting the dataset into the Training set and Test set"
   ]
  },
  {
   "cell_type": "code",
   "execution_count": 118,
   "metadata": {
    "colab": {},
    "colab_type": "code",
    "id": "bxOOauiN9VpC",
    "pycharm": {
     "name": "#%%\n"
    }
   },
   "outputs": [],
   "source": [
    "from sklearn.model_selection import train_test_split\n",
    "X_train, X_test, y_train, y_test = train_test_split(X, y, test_size = 1/3, random_state = 0)"
   ]
  },
  {
   "cell_type": "code",
   "execution_count": 119,
   "metadata": {
    "pycharm": {
     "name": "#%%\n"
    }
   },
   "outputs": [
    {
     "data": {
      "text/plain": "array([[1.244],\n       [0.337],\n       [0.682],\n       [0.332],\n       [0.357],\n       [0.835],\n       [0.557],\n       [0.822],\n       [0.73 ],\n       [0.899],\n       [0.069],\n       [1.148],\n       [0.024],\n       [0.314],\n       [1.219],\n       [0.914],\n       [0.934],\n       [0.535],\n       [0.425],\n       [0.985],\n       [1.197],\n       [0.807],\n       [1.448],\n       [0.493],\n       [0.9  ],\n       [1.233],\n       [1.324],\n       [1.154],\n       [1.148],\n       [1.188],\n       [1.343],\n       [0.091],\n       [1.024],\n       [1.33 ],\n       [1.171],\n       [0.885],\n       [0.779],\n       [0.541],\n       [1.01 ],\n       [0.682],\n       [1.34 ],\n       [0.378],\n       [0.53 ],\n       [0.131],\n       [1.264],\n       [1.341],\n       [0.198],\n       [1.229],\n       [1.176],\n       [0.855],\n       [1.456],\n       [0.308],\n       [0.332],\n       [1.338],\n       [1.059],\n       [1.42 ],\n       [0.322],\n       [1.398],\n       [0.94 ],\n       [1.21 ],\n       [1.361],\n       [1.294],\n       [0.689],\n       [0.562],\n       [1.305],\n       [1.161],\n       [1.073],\n       [0.819],\n       [0.532],\n       [1.405],\n       [1.251],\n       [1.038],\n       [1.01 ],\n       [0.652],\n       [1.649],\n       [0.358],\n       [0.853],\n       [0.605],\n       [1.379],\n       [0.781],\n       [1.054],\n       [0.982],\n       [0.965],\n       [0.918],\n       [0.442],\n       [1.039],\n       [0.975],\n       [1.365],\n       [1.115],\n       [0.186],\n       [0.076],\n       [0.806],\n       [1.151],\n       [0.472],\n       [0.959],\n       [0.775],\n       [0.474],\n       [0.96 ],\n       [1.27 ],\n       [1.34 ],\n       [0.642],\n       [1.016],\n       [0.37 ],\n       [0.889]])"
     },
     "execution_count": 119,
     "metadata": {},
     "output_type": "execute_result"
    }
   ],
   "source": [
    "y_train"
   ]
  },
  {
   "cell_type": "markdown",
   "metadata": {
    "colab_type": "text",
    "id": "ZijQwFMQ9itx",
    "pycharm": {
     "name": "#%% md\n"
    }
   },
   "source": [
    "## Training the Simple Linear Regression model on the Training set"
   ]
  },
  {
   "cell_type": "code",
   "execution_count": 120,
   "metadata": {
    "colab": {
     "base_uri": "https://localhost:8080/",
     "height": 34
    },
    "colab_type": "code",
    "executionInfo": {
     "elapsed": 882,
     "status": "ok",
     "timestamp": 1586352495803,
     "user": {
      "displayName": "Hadelin de Ponteves",
      "photoUrl": "https://lh3.googleusercontent.com/a-/AOh14GhEuXdT7eQweUmRPW8_laJuPggSK6hfvpl5a6WBaA=s64",
      "userId": "15047218817161520419"
     },
     "user_tz": -240
    },
    "id": "B4Aj_8YJ9l7J",
    "outputId": "15363111-2a76-4774-88ad-48db22159e9d",
    "pycharm": {
     "name": "#%%\n"
    }
   },
   "outputs": [
    {
     "data": {
      "text/plain": "LinearRegression()",
      "text/html": "<style>#sk-container-id-7 {color: black;background-color: white;}#sk-container-id-7 pre{padding: 0;}#sk-container-id-7 div.sk-toggleable {background-color: white;}#sk-container-id-7 label.sk-toggleable__label {cursor: pointer;display: block;width: 100%;margin-bottom: 0;padding: 0.3em;box-sizing: border-box;text-align: center;}#sk-container-id-7 label.sk-toggleable__label-arrow:before {content: \"▸\";float: left;margin-right: 0.25em;color: #696969;}#sk-container-id-7 label.sk-toggleable__label-arrow:hover:before {color: black;}#sk-container-id-7 div.sk-estimator:hover label.sk-toggleable__label-arrow:before {color: black;}#sk-container-id-7 div.sk-toggleable__content {max-height: 0;max-width: 0;overflow: hidden;text-align: left;background-color: #f0f8ff;}#sk-container-id-7 div.sk-toggleable__content pre {margin: 0.2em;color: black;border-radius: 0.25em;background-color: #f0f8ff;}#sk-container-id-7 input.sk-toggleable__control:checked~div.sk-toggleable__content {max-height: 200px;max-width: 100%;overflow: auto;}#sk-container-id-7 input.sk-toggleable__control:checked~label.sk-toggleable__label-arrow:before {content: \"▾\";}#sk-container-id-7 div.sk-estimator input.sk-toggleable__control:checked~label.sk-toggleable__label {background-color: #d4ebff;}#sk-container-id-7 div.sk-label input.sk-toggleable__control:checked~label.sk-toggleable__label {background-color: #d4ebff;}#sk-container-id-7 input.sk-hidden--visually {border: 0;clip: rect(1px 1px 1px 1px);clip: rect(1px, 1px, 1px, 1px);height: 1px;margin: -1px;overflow: hidden;padding: 0;position: absolute;width: 1px;}#sk-container-id-7 div.sk-estimator {font-family: monospace;background-color: #f0f8ff;border: 1px dotted black;border-radius: 0.25em;box-sizing: border-box;margin-bottom: 0.5em;}#sk-container-id-7 div.sk-estimator:hover {background-color: #d4ebff;}#sk-container-id-7 div.sk-parallel-item::after {content: \"\";width: 100%;border-bottom: 1px solid gray;flex-grow: 1;}#sk-container-id-7 div.sk-label:hover label.sk-toggleable__label {background-color: #d4ebff;}#sk-container-id-7 div.sk-serial::before {content: \"\";position: absolute;border-left: 1px solid gray;box-sizing: border-box;top: 0;bottom: 0;left: 50%;z-index: 0;}#sk-container-id-7 div.sk-serial {display: flex;flex-direction: column;align-items: center;background-color: white;padding-right: 0.2em;padding-left: 0.2em;position: relative;}#sk-container-id-7 div.sk-item {position: relative;z-index: 1;}#sk-container-id-7 div.sk-parallel {display: flex;align-items: stretch;justify-content: center;background-color: white;position: relative;}#sk-container-id-7 div.sk-item::before, #sk-container-id-7 div.sk-parallel-item::before {content: \"\";position: absolute;border-left: 1px solid gray;box-sizing: border-box;top: 0;bottom: 0;left: 50%;z-index: -1;}#sk-container-id-7 div.sk-parallel-item {display: flex;flex-direction: column;z-index: 1;position: relative;background-color: white;}#sk-container-id-7 div.sk-parallel-item:first-child::after {align-self: flex-end;width: 50%;}#sk-container-id-7 div.sk-parallel-item:last-child::after {align-self: flex-start;width: 50%;}#sk-container-id-7 div.sk-parallel-item:only-child::after {width: 0;}#sk-container-id-7 div.sk-dashed-wrapped {border: 1px dashed gray;margin: 0 0.4em 0.5em 0.4em;box-sizing: border-box;padding-bottom: 0.4em;background-color: white;}#sk-container-id-7 div.sk-label label {font-family: monospace;font-weight: bold;display: inline-block;line-height: 1.2em;}#sk-container-id-7 div.sk-label-container {text-align: center;}#sk-container-id-7 div.sk-container {/* jupyter's `normalize.less` sets `[hidden] { display: none; }` but bootstrap.min.css set `[hidden] { display: none !important; }` so we also need the `!important` here to be able to override the default hidden behavior on the sphinx rendered scikit-learn.org. See: https://github.com/scikit-learn/scikit-learn/issues/21755 */display: inline-block !important;position: relative;}#sk-container-id-7 div.sk-text-repr-fallback {display: none;}</style><div id=\"sk-container-id-7\" class=\"sk-top-container\"><div class=\"sk-text-repr-fallback\"><pre>LinearRegression()</pre><b>In a Jupyter environment, please rerun this cell to show the HTML representation or trust the notebook. <br />On GitHub, the HTML representation is unable to render, please try loading this page with nbviewer.org.</b></div><div class=\"sk-container\" hidden><div class=\"sk-item\"><div class=\"sk-estimator sk-toggleable\"><input class=\"sk-toggleable__control sk-hidden--visually\" id=\"sk-estimator-id-7\" type=\"checkbox\" checked><label for=\"sk-estimator-id-7\" class=\"sk-toggleable__label sk-toggleable__label-arrow\">LinearRegression</label><div class=\"sk-toggleable__content\"><pre>LinearRegression()</pre></div></div></div></div></div>"
     },
     "execution_count": 120,
     "metadata": {},
     "output_type": "execute_result"
    }
   ],
   "source": [
    "from sklearn.linear_model import LinearRegression\n",
    "X = X.reshape(-1, 1)  # Reshape X into a 2D array with one column\n",
    "y = y.reshape(-1, 1)  # Reshape y into a 2D array with one column\n",
    "regressor = LinearRegression()\n",
    "regressor.fit(X_train, y_train)"
   ]
  },
  {
   "cell_type": "markdown",
   "metadata": {
    "colab_type": "text",
    "id": "wa2T1Lq89o5H",
    "pycharm": {
     "name": "#%% md\n"
    }
   },
   "source": [
    "## Predicting the Test set results"
   ]
  },
  {
   "cell_type": "code",
   "execution_count": 121,
   "metadata": {
    "colab": {},
    "colab_type": "code",
    "id": "Rn_sTJ2o9smm",
    "pycharm": {
     "name": "#%%\n"
    }
   },
   "outputs": [],
   "source": [
    "y_pred = regressor.predict(X_test)"
   ]
  },
  {
   "cell_type": "code",
   "execution_count": 122,
   "metadata": {
    "pycharm": {
     "name": "#%%\n"
    }
   },
   "outputs": [
    {
     "data": {
      "text/plain": "array([[1.18249732],\n       [1.02955221],\n       [1.11496311],\n       [0.65499277],\n       [1.19555015],\n       [1.43617621],\n       [1.08091226],\n       [0.67939589],\n       [0.52219442],\n       [1.1004915 ],\n       [0.82070695],\n       [1.0448751 ],\n       [0.6720182 ],\n       [0.61583428],\n       [1.0250121 ],\n       [0.37435695],\n       [1.15781044],\n       [0.61810434],\n       [1.08403358],\n       [0.58405348],\n       [0.376627  ],\n       [1.43333864],\n       [0.48275218],\n       [1.00089274],\n       [0.65924913],\n       [0.2951887 ],\n       [0.84652885],\n       [0.98642112],\n       [0.86043295],\n       [0.80595158],\n       [1.31870075],\n       [1.28010978],\n       [0.5468813 ],\n       [0.77161696],\n       [1.19923899],\n       [0.87518832],\n       [0.7216757 ],\n       [0.70805536],\n       [0.81332926],\n       [1.17937599],\n       [0.66974814],\n       [0.49268368],\n       [0.79999268],\n       [1.29146006],\n       [0.99010997],\n       [1.1680257 ],\n       [0.91973819],\n       [0.99294754],\n       [1.50172411],\n       [0.42883832],\n       [1.08772243],\n       [0.95832917]])"
     },
     "execution_count": 122,
     "metadata": {},
     "output_type": "execute_result"
    }
   ],
   "source": [
    "y_pred"
   ]
  },
  {
   "cell_type": "markdown",
   "metadata": {
    "colab_type": "text",
    "id": "-zSoMZ-P9v8t",
    "pycharm": {
     "name": "#%% md\n"
    }
   },
   "source": [
    "## Visualising the Training set results"
   ]
  },
  {
   "cell_type": "code",
   "execution_count": 123,
   "metadata": {
    "colab": {
     "base_uri": "https://localhost:8080/",
     "height": 295
    },
    "colab_type": "code",
    "executionInfo": {
     "elapsed": 763,
     "status": "ok",
     "timestamp": 1586352502760,
     "user": {
      "displayName": "Hadelin de Ponteves",
      "photoUrl": "https://lh3.googleusercontent.com/a-/AOh14GhEuXdT7eQweUmRPW8_laJuPggSK6hfvpl5a6WBaA=s64",
      "userId": "15047218817161520419"
     },
     "user_tz": -240
    },
    "id": "IAePn_u-93tI",
    "outputId": "b860fdce-5757-4104-b6e9-0f180e3fca05",
    "pycharm": {
     "name": "#%%\n"
    }
   },
   "outputs": [
    {
     "data": {
      "text/plain": "<Figure size 640x480 with 1 Axes>",
      "image/png": "[encoded data removed]"
     },
     "metadata": {},
     "output_type": "display_data"
    }
   ],
   "source": [
    "plt.scatter(X_train, y_train, color = 'red')\n",
    "plt.plot(X_train, regressor.predict(X_train), color = 'blue')\n",
    "plt.title('Score vs Experience (Training set)')\n",
    "plt.xlabel('Score')\n",
    "plt.ylabel('GDP per capita')\n",
    "plt.show()"
   ]
  },
  {
   "cell_type": "markdown",
   "metadata": {
    "colab_type": "text",
    "id": "EUX1Vhsv97ZT",
    "pycharm": {
     "name": "#%% md\n"
    }
   },
   "source": [
    "## Visualising the Test set results"
   ]
  },
  {
   "cell_type": "code",
   "execution_count": 124,
   "metadata": {
    "colab": {
     "base_uri": "https://localhost:8080/",
     "height": 295
    },
    "colab_type": "code",
    "executionInfo": {
     "elapsed": 1097,
     "status": "ok",
     "timestamp": 1586352506966,
     "user": {
      "displayName": "Hadelin de Ponteves",
      "photoUrl": "https://lh3.googleusercontent.com/a-/AOh14GhEuXdT7eQweUmRPW8_laJuPggSK6hfvpl5a6WBaA=s64",
      "userId": "15047218817161520419"
     },
     "user_tz": -240
    },
    "id": "Ze9vpBTf-Bol",
    "outputId": "58359ab2-7a52-4960-f49e-3d8b5ef6f7a1",
    "pycharm": {
     "name": "#%%\n"
    }
   },
   "outputs": [
    {
     "data": {
      "text/plain": "<Figure size 640x480 with 1 Axes>",
      "image/png": "[encoded data removed]"
     },
     "metadata": {},
     "output_type": "display_data"
    }
   ],
   "source": [
    "plt.scatter(X_test, y_test, color = 'red')\n",
    "plt.plot(X_train, regressor.predict(X_train), color = 'blue')\n",
    "plt.title('Score vs GDP (Test set)')\n",
    "plt.xlabel('Score')\n",
    "plt.ylabel('GDP per capita')\n",
    "plt.show()"
   ]
  },
  {
   "cell_type": "code",
   "execution_count": 124,
   "metadata": {
    "pycharm": {
     "name": "#%%\n"
    }
   },
   "outputs": [],
   "source": []
  }
 ],
 "metadata": {
  "colab": {
   "authorship_tag": "ABX9TyP1VVwrQU8S68bmX5lftYWC",
   "name": "Simple Linear Regression",
   "provenance": [],
   "toc_visible": true
  },
  "kernelspec": {
   "display_name": "Python 3 (ipykernel)",
   "language": "python",
   "name": "python3"
  },
  "language_info": {
   "codemirror_mode": {
    "name": "ipython",
    "version": 3
   },
   "file_extension": ".py",
   "mimetype": "text/x-python",
   "name": "python",
   "nbconvert_exporter": "python",
   "pygments_lexer": "ipython3",
   "version": "3.9.5"
  }
 },
 "nbformat": 4,
 "nbformat_minor": 1
}