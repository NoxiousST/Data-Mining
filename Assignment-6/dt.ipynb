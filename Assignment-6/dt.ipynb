{
 "cells": [
  {
   "cell_type": "code",
   "execution_count": 73,
   "metadata": {
    "id": "rw2trGGto-4O"
   },
   "outputs": [],
   "source": [
    "#Import library numpy, pandas dan scikit-learn\n",
    "import numpy as np\n",
    "import pandas as pd\n",
    "from sklearn import tree\n",
    "from sklearn.model_selection import train_test_split\n",
    "from sklearn.preprocessing import LabelEncoder"
   ]
  },
  {
   "cell_type": "code",
   "execution_count": 74,
   "metadata": {
    "id": "acy6kUs3phwJ"
   },
   "outputs": [],
   "source": [
    "#Membaca Dataset dari File ke Pandas dataFrame\n",
    "productDataset = pd.read_csv('Product.csv', delimiter=',', header=0)"
   ]
  },
  {
   "cell_type": "code",
   "execution_count": 75,
   "metadata": {},
   "outputs": [
    {
     "name": "stdout",
     "output_type": "stream",
     "text": [
      "<class 'pandas.core.frame.DataFrame'>\n",
      "RangeIndex: 39 entries, 0 to 38\n",
      "Data columns (total 7 columns):\n",
      " #   Column             Non-Null Count  Dtype \n",
      "---  ------             --------------  ----- \n",
      " 0   ID                 39 non-null     int64 \n",
      " 1   Product            39 non-null     object\n",
      " 2   Type               39 non-null     object\n",
      " 3   Price              39 non-null     int64 \n",
      " 4   Core Count         39 non-null     int64 \n",
      " 5   Memory             39 non-null     int64 \n",
      " 6   Power Consumption  39 non-null     int64 \n",
      "dtypes: int64(5), object(2)\n",
      "memory usage: 2.3+ KB\n"
     ]
    }
   ],
   "source": [
    "productDataset.info()"
   ]
  },
  {
   "cell_type": "code",
   "execution_count": 76,
   "metadata": {},
   "outputs": [
    {
     "data": {
      "text/plain": [
       "['Price', 'Core Count', 'Memory', 'Power Consumption']"
      ]
     },
     "execution_count": 76,
     "metadata": {},
     "output_type": "execute_result"
    }
   ],
   "source": [
    "feature_names = list(productDataset.columns[3:7])\n",
    "feature_names"
   ]
  },
  {
   "cell_type": "code",
   "execution_count": 77,
   "metadata": {},
   "outputs": [
    {
     "data": {
      "text/plain": [
       "0     GPU\n",
       "1     CPU\n",
       "2     GPU\n",
       "3     CPU\n",
       "4     GPU\n",
       "5     CPU\n",
       "6     GPU\n",
       "7     CPU\n",
       "8     GPU\n",
       "9     CPU\n",
       "10    GPU\n",
       "11    CPU\n",
       "12    GPU\n",
       "13    CPU\n",
       "14    GPU\n",
       "15    CPU\n",
       "16    GPU\n",
       "17    CPU\n",
       "18    GPU\n",
       "19    CPU\n",
       "20    GPU\n",
       "21    GPU\n",
       "22    CPU\n",
       "23    CPU\n",
       "24    GPU\n",
       "25    CPU\n",
       "26    GPU\n",
       "27    GPU\n",
       "28    CPU\n",
       "29    CPU\n",
       "30    GPU\n",
       "31    CPU\n",
       "32    GPU\n",
       "33    GPU\n",
       "34    CPU\n",
       "35    CPU\n",
       "36    GPU\n",
       "37    CPU\n",
       "38    GPU\n",
       "Name: Type, dtype: object"
      ]
     },
     "execution_count": 77,
     "metadata": {},
     "output_type": "execute_result"
    }
   ],
   "source": [
    "target_name = productDataset[\"Type\"]\n",
    "target_name"
   ]
  },
  {
   "cell_type": "code",
   "execution_count": 78,
   "metadata": {},
   "outputs": [],
   "source": [
    "productDataset[\"Type\"] = pd.factorize(productDataset.Type)[0]"
   ]
  },
  {
   "cell_type": "code",
   "execution_count": 79,
   "metadata": {
    "id": "yWrMU7yorIzO"
   },
   "outputs": [],
   "source": [
    "#Menghapus kolom \"Id\"\n",
    "productDataset = productDataset.drop(labels=\"ID\", axis=1)"
   ]
  },
  {
   "cell_type": "code",
   "execution_count": 80,
   "metadata": {
    "id": "dG-3UdM3rUxu"
   },
   "outputs": [],
   "source": [
    "#Mengubah dataFrame ke array Numpy\n",
    "productDataset = productDataset.to_numpy()"
   ]
  },
  {
   "cell_type": "code",
   "execution_count": 81,
   "metadata": {
    "id": "yAN-UH4kriLH"
   },
   "outputs": [],
   "source": [
    "#Membagi Dataset => 80 baris data untuk training dan 20 baris data untuk testing\n",
    "dataTraining = np.concatenate((productDataset[0:21, :], productDataset[25:36 :]), \n",
    "                              axis=0)\n",
    "dataTesting = np.concatenate((productDataset[21:25, :], productDataset[36:39, :]), \n",
    "                             axis=0)\n"
   ]
  },
  {
   "cell_type": "code",
   "execution_count": 82,
   "metadata": {},
   "outputs": [
    {
     "data": {
      "text/plain": [
       "array([['GeForce GTX 1660 Ti', 0, 279, 1536, 6, 120],\n",
       "       ['Ryzen 5 5600X', 1, 299, 6, 0, 65],\n",
       "       ['GeForce RTX 3070', 0, 499, 5888, 8, 220],\n",
       "       ['Core i7-11700K', 1, 399, 8, 0, 125],\n",
       "       ['Radeon RX 6700 XT', 0, 479, 2560, 12, 230],\n",
       "       ['Core i9-11900K', 1, 599, 8, 0, 125],\n",
       "       ['GeForce RTX 3080 Ti', 0, 1199, 10240, 12, 350],\n",
       "       ['Ryzen 9 5950X', 1, 799, 16, 0, 105],\n",
       "       ['GeForce GTX 1050 Ti', 0, 149, 768, 4, 75],\n",
       "       ['Core i5-11600K', 1, 269, 6, 0, 125],\n",
       "       ['Radeon RX 6600 XT', 0, 379, 2048, 8, 160],\n",
       "       ['Core i9-10900K', 1, 529, 10, 0, 125],\n",
       "       ['GeForce RTX 3060 Ti', 0, 399, 4864, 8, 200],\n",
       "       ['Ryzen 7 5800X', 1, 449, 8, 0, 105],\n",
       "       ['GeForce RTX 3080', 0, 699, 8704, 10, 320],\n",
       "       ['Core i9-11900KF', 1, 599, 8, 0, 125],\n",
       "       ['Radeon RX 6800 XT', 0, 649, 3840, 16, 300],\n",
       "       ['Ryzen 9 5900X', 1, 549, 12, 0, 105],\n",
       "       ['GeForce GTX 1660', 0, 219, 1408, 6, 120],\n",
       "       ['Core i5-11400F', 1, 179, 6, 0, 65],\n",
       "       ['Radeon RX 5500 XT', 0, 249, 1408, 8, 130],\n",
       "       ['GeForce GTX 1050', 0, 119, 640, 2, 75],\n",
       "       ['Core i3-10100', 1, 129, 4, 0, 65],\n",
       "       ['Ryzen 3 3300X', 1, 139, 4, 0, 65],\n",
       "       ['GeForce GT 1030', 0, 99, 384, 2, 30],\n",
       "       ['Core i5-10400F', 1, 149, 6, 0, 65],\n",
       "       ['Radeon RX 580', 0, 229, 2304, 8, 185],\n",
       "       ['GeForce GTX 1060', 0, 199, 1280, 6, 120],\n",
       "       ['Core i5-11600KF', 1, 269, 6, 0, 125],\n",
       "       ['Ryzen 5 3600', 1, 199, 6, 0, 65],\n",
       "       ['GeForce GTX 1660 SUPER', 0, 229, 1408, 6, 125],\n",
       "       ['Core i5-10600K', 1, 279, 6, 0, 125],\n",
       "       ['Radeon RX 6700', 0, 479, 2304, 12, 230],\n",
       "       ['GeForce RTX 3090', 0, 1499, 10496, 24, 350],\n",
       "       ['Core i7-10700K', 1, 399, 8, 0, 125],\n",
       "       ['Ryzen 7 3700X', 1, 329, 8, 0, 65],\n",
       "       ['GeForce GTX 1650 SUPER', 0, 159, 1280, 4, 100],\n",
       "       ['Core i9-10850K', 1, 449, 10, 0, 125],\n",
       "       ['Radeon RX 5600 XT', 0, 279, 2304, 6, 150]], dtype=object)"
      ]
     },
     "execution_count": 82,
     "metadata": {},
     "output_type": "execute_result"
    }
   ],
   "source": [
    "productDataset"
   ]
  },
  {
   "cell_type": "code",
   "execution_count": 83,
   "metadata": {
    "id": "4H9gup4Gs0aX"
   },
   "outputs": [],
   "source": [
    "#Memecah Dataset ke Input dan Label\n",
    "inputTraining = dataTraining[:, 2:6]\n",
    "inputTesting = dataTesting[:, 2:6]\n",
    "labelTraining = dataTraining[:, 1]\n",
    "labelTesting = dataTesting[:, 1]"
   ]
  },
  {
   "cell_type": "code",
   "execution_count": 84,
   "metadata": {},
   "outputs": [
    {
     "data": {
      "text/plain": [
       "array([[279, 1536, 6, 120],\n",
       "       [299, 6, 0, 65],\n",
       "       [499, 5888, 8, 220],\n",
       "       [399, 8, 0, 125],\n",
       "       [479, 2560, 12, 230],\n",
       "       [599, 8, 0, 125],\n",
       "       [1199, 10240, 12, 350],\n",
       "       [799, 16, 0, 105],\n",
       "       [149, 768, 4, 75],\n",
       "       [269, 6, 0, 125],\n",
       "       [379, 2048, 8, 160],\n",
       "       [529, 10, 0, 125],\n",
       "       [399, 4864, 8, 200],\n",
       "       [449, 8, 0, 105],\n",
       "       [699, 8704, 10, 320],\n",
       "       [599, 8, 0, 125],\n",
       "       [649, 3840, 16, 300],\n",
       "       [549, 12, 0, 105],\n",
       "       [219, 1408, 6, 120],\n",
       "       [179, 6, 0, 65],\n",
       "       [249, 1408, 8, 130],\n",
       "       [149, 6, 0, 65],\n",
       "       [229, 2304, 8, 185],\n",
       "       [199, 1280, 6, 120],\n",
       "       [269, 6, 0, 125],\n",
       "       [199, 6, 0, 65],\n",
       "       [229, 1408, 6, 125],\n",
       "       [279, 6, 0, 125],\n",
       "       [479, 2304, 12, 230],\n",
       "       [1499, 10496, 24, 350],\n",
       "       [399, 8, 0, 125],\n",
       "       [329, 8, 0, 65]], dtype=object)"
      ]
     },
     "execution_count": 84,
     "metadata": {},
     "output_type": "execute_result"
    }
   ],
   "source": [
    "inputTraining"
   ]
  },
  {
   "cell_type": "code",
   "execution_count": 85,
   "metadata": {
    "id": "kco04ijXtRvn"
   },
   "outputs": [],
   "source": [
    "#Mendefinisikan Decision Tree Classifier\n",
    "model = tree.DecisionTreeClassifier()"
   ]
  },
  {
   "cell_type": "code",
   "execution_count": 86,
   "metadata": {
    "id": "92Ji3zzNtcJG"
   },
   "outputs": [
    {
     "data": {
      "text/html": [
       "<style>#sk-container-id-5 {color: black;background-color: white;}#sk-container-id-5 pre{padding: 0;}#sk-container-id-5 div.sk-toggleable {background-color: white;}#sk-container-id-5 label.sk-toggleable__label {cursor: pointer;display: block;width: 100%;margin-bottom: 0;padding: 0.3em;box-sizing: border-box;text-align: center;}#sk-container-id-5 label.sk-toggleable__label-arrow:before {content: \"▸\";float: left;margin-right: 0.25em;color: #696969;}#sk-container-id-5 label.sk-toggleable__label-arrow:hover:before {color: black;}#sk-container-id-5 div.sk-estimator:hover label.sk-toggleable__label-arrow:before {color: black;}#sk-container-id-5 div.sk-toggleable__content {max-height: 0;max-width: 0;overflow: hidden;text-align: left;background-color: #f0f8ff;}#sk-container-id-5 div.sk-toggleable__content pre {margin: 0.2em;color: black;border-radius: 0.25em;background-color: #f0f8ff;}#sk-container-id-5 input.sk-toggleable__control:checked~div.sk-toggleable__content {max-height: 200px;max-width: 100%;overflow: auto;}#sk-container-id-5 input.sk-toggleable__control:checked~label.sk-toggleable__label-arrow:before {content: \"▾\";}#sk-container-id-5 div.sk-estimator input.sk-toggleable__control:checked~label.sk-toggleable__label {background-color: #d4ebff;}#sk-container-id-5 div.sk-label input.sk-toggleable__control:checked~label.sk-toggleable__label {background-color: #d4ebff;}#sk-container-id-5 input.sk-hidden--visually {border: 0;clip: rect(1px 1px 1px 1px);clip: rect(1px, 1px, 1px, 1px);height: 1px;margin: -1px;overflow: hidden;padding: 0;position: absolute;width: 1px;}#sk-container-id-5 div.sk-estimator {font-family: monospace;background-color: #f0f8ff;border: 1px dotted black;border-radius: 0.25em;box-sizing: border-box;margin-bottom: 0.5em;}#sk-container-id-5 div.sk-estimator:hover {background-color: #d4ebff;}#sk-container-id-5 div.sk-parallel-item::after {content: \"\";width: 100%;border-bottom: 1px solid gray;flex-grow: 1;}#sk-container-id-5 div.sk-label:hover label.sk-toggleable__label {background-color: #d4ebff;}#sk-container-id-5 div.sk-serial::before {content: \"\";position: absolute;border-left: 1px solid gray;box-sizing: border-box;top: 0;bottom: 0;left: 50%;z-index: 0;}#sk-container-id-5 div.sk-serial {display: flex;flex-direction: column;align-items: center;background-color: white;padding-right: 0.2em;padding-left: 0.2em;position: relative;}#sk-container-id-5 div.sk-item {position: relative;z-index: 1;}#sk-container-id-5 div.sk-parallel {display: flex;align-items: stretch;justify-content: center;background-color: white;position: relative;}#sk-container-id-5 div.sk-item::before, #sk-container-id-5 div.sk-parallel-item::before {content: \"\";position: absolute;border-left: 1px solid gray;box-sizing: border-box;top: 0;bottom: 0;left: 50%;z-index: -1;}#sk-container-id-5 div.sk-parallel-item {display: flex;flex-direction: column;z-index: 1;position: relative;background-color: white;}#sk-container-id-5 div.sk-parallel-item:first-child::after {align-self: flex-end;width: 50%;}#sk-container-id-5 div.sk-parallel-item:last-child::after {align-self: flex-start;width: 50%;}#sk-container-id-5 div.sk-parallel-item:only-child::after {width: 0;}#sk-container-id-5 div.sk-dashed-wrapped {border: 1px dashed gray;margin: 0 0.4em 0.5em 0.4em;box-sizing: border-box;padding-bottom: 0.4em;background-color: white;}#sk-container-id-5 div.sk-label label {font-family: monospace;font-weight: bold;display: inline-block;line-height: 1.2em;}#sk-container-id-5 div.sk-label-container {text-align: center;}#sk-container-id-5 div.sk-container {/* jupyter's `normalize.less` sets `[hidden] { display: none; }` but bootstrap.min.css set `[hidden] { display: none !important; }` so we also need the `!important` here to be able to override the default hidden behavior on the sphinx rendered scikit-learn.org. See: https://github.com/scikit-learn/scikit-learn/issues/21755 */display: inline-block !important;position: relative;}#sk-container-id-5 div.sk-text-repr-fallback {display: none;}</style><div id=\"sk-container-id-5\" class=\"sk-top-container\"><div class=\"sk-text-repr-fallback\"><pre>DecisionTreeClassifier()</pre><b>In a Jupyter environment, please rerun this cell to show the HTML representation or trust the notebook. <br />On GitHub, the HTML representation is unable to render, please try loading this page with nbviewer.org.</b></div><div class=\"sk-container\" hidden><div class=\"sk-item\"><div class=\"sk-estimator sk-toggleable\"><input class=\"sk-toggleable__control sk-hidden--visually\" id=\"sk-estimator-id-5\" type=\"checkbox\" checked><label for=\"sk-estimator-id-5\" class=\"sk-toggleable__label sk-toggleable__label-arrow\">DecisionTreeClassifier</label><div class=\"sk-toggleable__content\"><pre>DecisionTreeClassifier()</pre></div></div></div></div></div>"
      ],
      "text/plain": [
       "DecisionTreeClassifier()"
      ]
     },
     "execution_count": 86,
     "metadata": {},
     "output_type": "execute_result"
    }
   ],
   "source": [
    "#Mentraining Model\n",
    "label_encoder = LabelEncoder()\n",
    "labelTraining = label_encoder.fit_transform(labelTraining)\n",
    "\n",
    "model = tree.DecisionTreeClassifier()\n",
    "model.fit(inputTraining,labelTraining)"
   ]
  },
  {
   "cell_type": "code",
   "execution_count": 87,
   "metadata": {
    "id": "xPE9lX1PtlKW"
   },
   "outputs": [
    {
     "name": "stdout",
     "output_type": "stream",
     "text": [
      "Label Sebenarnya :  [0 1 1 0 0 1 0]\n",
      "Hasil Prediksi :  [0 1 1 1 0 1 0]\n"
     ]
    }
   ],
   "source": [
    "#Memprediksi Input Data Testing\n",
    "hasilPrediksi = model.predict(inputTesting)\n",
    "print(\"Label Sebenarnya : \", labelTesting)\n",
    "print(\"Hasil Prediksi : \", hasilPrediksi)"
   ]
  },
  {
   "cell_type": "code",
   "execution_count": 88,
   "metadata": {
    "id": "6SMAZMn4uBD1"
   },
   "outputs": [
    {
     "name": "stdout",
     "output_type": "stream",
     "text": [
      "Prediksi Benar : 6 data\n",
      "Prediksi Salah : 1 data\n",
      "Akurasi : 85.71428571428571 %\n"
     ]
    }
   ],
   "source": [
    "#Menghitung Akurasi\n",
    "prediksiBenar = (hasilPrediksi == labelTesting).sum()\n",
    "prediksiSalah = (hasilPrediksi != labelTesting).sum()\n",
    "print(\"Prediksi Benar :\", prediksiBenar, \"data\")\n",
    "print(\"Prediksi Salah :\", prediksiSalah, \"data\")\n",
    "print(\"Akurasi :\", prediksiBenar/(prediksiBenar+prediksiSalah) * 100, \"%\")"
   ]
  },
  {
   "cell_type": "code",
   "execution_count": 89,
   "metadata": {},
   "outputs": [
    {
     "data": {
      "text/plain": [
       "'product_decision_tree.png'"
      ]
     },
     "execution_count": 89,
     "metadata": {},
     "output_type": "execute_result"
    }
   ],
   "source": [
    "from sklearn.tree import DecisionTreeClassifier, export_graphviz\n",
    "from IPython.display import Image\n",
    "import graphviz\n",
    "\n",
    "# Train the decision tree classifier\n",
    "clf = DecisionTreeClassifier()\n",
    "clf.fit(inputTraining, labelTraining)\n",
    "\n",
    "# Export the trained decision tree to a DOT file\n",
    "dot_data = export_graphviz(clf, out_file=None, \n",
    "                           feature_names=feature_names,  \n",
    "                           class_names=target_name,  \n",
    "                           filled=True, rounded=True,  \n",
    "                           special_characters=True)\n",
    "graph = graphviz.Source(dot_data)\n",
    "\n",
    "# Save the decision tree as a PNG image\n",
    "graph.format = 'png'\n",
    "graph.render('product_decision_tree', view=True)"
   ]
  },
  {
   "cell_type": "code",
   "execution_count": null,
   "metadata": {},
   "outputs": [],
   "source": []
  }
 ],
 "metadata": {
  "colab": {
   "name": "DecisionTree IrisCSV.ipynb",
   "provenance": []
  },
  "kernelspec": {
   "display_name": "Python 3 (ipykernel)",
   "language": "python",
   "name": "python3"
  },
  "language_info": {
   "codemirror_mode": {
    "name": "ipython",
    "version": 3
   },
   "file_extension": ".py",
   "mimetype": "text/x-python",
   "name": "python",
   "nbconvert_exporter": "python",
   "pygments_lexer": "ipython3",
   "version": "3.10.10"
  }
 },
 "nbformat": 4,
 "nbformat_minor": 1
}
