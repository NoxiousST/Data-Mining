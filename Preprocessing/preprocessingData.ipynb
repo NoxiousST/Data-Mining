{
 "cells": [
  {
   "cell_type": "code",
   "execution_count": 70,
   "metadata": {
    "id": "2DKDpXsb8Tym"
   },
   "outputs": [],
   "source": [
    "import numpy as np\n",
    "import matplotlib.pyplot as plt\n",
    "import pandas as pd"
   ]
  },
  {
   "cell_type": "code",
   "execution_count": 71,
   "metadata": {
    "id": "JPDFYyq7G_RF"
   },
   "outputs": [],
   "source": [
    "dataset = pd.read_csv('Dataset-Kasus-COVID19-shortened.csv')\n",
    "x = dataset.iloc[:, :-1].values\n",
    "y = dataset.iloc[:, -1].values"
   ]
  },
  {
   "cell_type": "code",
   "execution_count": 72,
   "metadata": {
    "colab": {
     "base_uri": "https://localhost:8080/"
    },
    "id": "kb9GarmBH-8Z",
    "outputId": "53bdf05b-7e65-4283-dcb3-dba26a13bf06"
   },
   "outputs": [
    {
     "name": "stdout",
     "output_type": "stream",
     "text": [
      "[['USA' 47916190 783565 37918301 1.6]\n",
      " ['India' 34447536 463655 33849785 1.3]\n",
      " ['Brazil' 21957967 611318 21151342 2.8]\n",
      " ['UK' 9561099 142898 7825200 1.5]\n",
      " ['Russia' 9109094 256597 7812557 2.8]\n",
      " ['Turki' 8408166 73531 7888959 0.9]\n",
      " ['Prancis' 7287645 118154 7009026 1.6]\n",
      " ['Iran' 6045212 128272 5708253 2.1]\n",
      " ['Argentina' 5305742 116232 5172193 2.2]\n",
      " ['Spanyol' 5047156 87673 4889801 1.7]]\n"
     ]
    }
   ],
   "source": [
    "print(x)"
   ]
  },
  {
   "cell_type": "code",
   "execution_count": 73,
   "metadata": {
    "colab": {
     "base_uri": "https://localhost:8080/"
    },
    "id": "fPYNdjZzIR6J",
    "outputId": "9e1491f9-3a2c-4cba-8354-b43b36ebb3a1"
   },
   "outputs": [
    {
     "name": "stdout",
     "output_type": "stream",
     "text": [
      "[79.1 98.3 96.3 81.8 85.8 93.8 96.2 94.4 97.5 96.9]\n"
     ]
    }
   ],
   "source": [
    "print(y)"
   ]
  },
  {
   "cell_type": "code",
   "execution_count": 74,
   "metadata": {
    "id": "tliVpM6bIgu9"
   },
   "outputs": [],
   "source": [
    "from sklearn.impute import SimpleImputer\n",
    "imputer = SimpleImputer(missing_values=np.nan, strategy='mean')\n",
    "imputer.fit(x[:, 1:3])\n",
    "x[:, 1:3] = imputer.transform(x[:, 1:3])"
   ]
  },
  {
   "cell_type": "code",
   "execution_count": 75,
   "metadata": {
    "colab": {
     "base_uri": "https://localhost:8080/"
    },
    "id": "-dmcXYMLJcDf",
    "outputId": "f93e7292-d61c-49a6-aaf0-06cb535965f7"
   },
   "outputs": [
    {
     "name": "stdout",
     "output_type": "stream",
     "text": [
      "[['USA' 47916190.0 783565.0 37918301 1.6]\n",
      " ['India' 34447536.0 463655.0 33849785 1.3]\n",
      " ['Brazil' 21957967.0 611318.0 21151342 2.8]\n",
      " ['UK' 9561099.0 142898.0 7825200 1.5]\n",
      " ['Russia' 9109094.0 256597.0 7812557 2.8]\n",
      " ['Turki' 8408166.0 73531.0 7888959 0.9]\n",
      " ['Prancis' 7287645.0 118154.0 7009026 1.6]\n",
      " ['Iran' 6045212.0 128272.0 5708253 2.1]\n",
      " ['Argentina' 5305742.0 116232.0 5172193 2.2]\n",
      " ['Spanyol' 5047156.0 87673.0 4889801 1.7]]\n"
     ]
    }
   ],
   "source": [
    "print(x)"
   ]
  },
  {
   "cell_type": "code",
   "execution_count": 76,
   "metadata": {
    "id": "PTFBpzBBJt65"
   },
   "outputs": [],
   "source": [
    "from sklearn.compose import ColumnTransformer\n",
    "from sklearn.preprocessing import OneHotEncoder\n",
    "ct = ColumnTransformer(transformers=[('encoder', OneHotEncoder(), [0])], remainder='passthrough')\n",
    "x = np.array(ct.fit_transform(x))"
   ]
  },
  {
   "cell_type": "code",
   "execution_count": 77,
   "metadata": {
    "colab": {
     "base_uri": "https://localhost:8080/"
    },
    "id": "P_9GQ4P3KuNV",
    "outputId": "c0e1c282-d5fa-4750-f34b-1a9a41c1f7b8"
   },
   "outputs": [
    {
     "name": "stdout",
     "output_type": "stream",
     "text": [
      "[[0.0 0.0 0.0 0.0 0.0 0.0 0.0 0.0 0.0 1.0 47916190.0 783565.0 37918301\n",
      "  1.6]\n",
      " [0.0 0.0 1.0 0.0 0.0 0.0 0.0 0.0 0.0 0.0 34447536.0 463655.0 33849785\n",
      "  1.3]\n",
      " [0.0 1.0 0.0 0.0 0.0 0.0 0.0 0.0 0.0 0.0 21957967.0 611318.0 21151342\n",
      "  2.8]\n",
      " [0.0 0.0 0.0 0.0 0.0 0.0 0.0 0.0 1.0 0.0 9561099.0 142898.0 7825200 1.5]\n",
      " [0.0 0.0 0.0 0.0 0.0 1.0 0.0 0.0 0.0 0.0 9109094.0 256597.0 7812557 2.8]\n",
      " [0.0 0.0 0.0 0.0 0.0 0.0 0.0 1.0 0.0 0.0 8408166.0 73531.0 7888959 0.9]\n",
      " [0.0 0.0 0.0 0.0 1.0 0.0 0.0 0.0 0.0 0.0 7287645.0 118154.0 7009026 1.6]\n",
      " [0.0 0.0 0.0 1.0 0.0 0.0 0.0 0.0 0.0 0.0 6045212.0 128272.0 5708253 2.1]\n",
      " [1.0 0.0 0.0 0.0 0.0 0.0 0.0 0.0 0.0 0.0 5305742.0 116232.0 5172193 2.2]\n",
      " [0.0 0.0 0.0 0.0 0.0 0.0 1.0 0.0 0.0 0.0 5047156.0 87673.0 4889801 1.7]]\n"
     ]
    }
   ],
   "source": [
    "print(x)"
   ]
  },
  {
   "cell_type": "code",
   "execution_count": 78,
   "metadata": {
    "id": "c73-6zWjLBgo"
   },
   "outputs": [],
   "source": [
    "from sklearn.preprocessing import LabelEncoder\n",
    "le = LabelEncoder()\n",
    "y = le.fit_transform(y)"
   ]
  },
  {
   "cell_type": "code",
   "execution_count": 79,
   "metadata": {
    "colab": {
     "base_uri": "https://localhost:8080/"
    },
    "id": "Go3MqGP-LS5P",
    "outputId": "92ba5c9f-b17d-4465-d95a-00cd1ff6a6d1"
   },
   "outputs": [
    {
     "name": "stdout",
     "output_type": "stream",
     "text": [
      "[0 9 6 1 2 3 5 4 8 7]\n"
     ]
    }
   ],
   "source": [
    "print(y)"
   ]
  },
  {
   "cell_type": "code",
   "execution_count": 80,
   "metadata": {
    "id": "-fBBg0UWLryt"
   },
   "outputs": [],
   "source": [
    "from sklearn.model_selection import train_test_split\n",
    "x_train, x_test, y_train, y_test = train_test_split(x, y, test_size=0.2, random_state=1)"
   ]
  },
  {
   "cell_type": "code",
   "execution_count": 81,
   "metadata": {
    "colab": {
     "base_uri": "https://localhost:8080/"
    },
    "id": "h4nkKTl6MXuJ",
    "outputId": "587920af-df0d-4ac3-ab40-188dde69d41f"
   },
   "outputs": [
    {
     "name": "stdout",
     "output_type": "stream",
     "text": [
      "[[0.0 0.0 0.0 0.0 1.0 0.0 0.0 0.0 0.0 0.0 7287645.0 118154.0 7009026 1.6]\n",
      " [0.0 0.0 0.0 0.0 0.0 1.0 0.0 0.0 0.0 0.0 9109094.0 256597.0 7812557 2.8]\n",
      " [0.0 0.0 0.0 0.0 0.0 0.0 0.0 0.0 0.0 1.0 47916190.0 783565.0 37918301\n",
      "  1.6]\n",
      " [0.0 0.0 0.0 0.0 0.0 0.0 0.0 0.0 1.0 0.0 9561099.0 142898.0 7825200 1.5]\n",
      " [0.0 0.0 1.0 0.0 0.0 0.0 0.0 0.0 0.0 0.0 34447536.0 463655.0 33849785\n",
      "  1.3]\n",
      " [0.0 0.0 0.0 1.0 0.0 0.0 0.0 0.0 0.0 0.0 6045212.0 128272.0 5708253 2.1]\n",
      " [1.0 0.0 0.0 0.0 0.0 0.0 0.0 0.0 0.0 0.0 5305742.0 116232.0 5172193 2.2]\n",
      " [0.0 0.0 0.0 0.0 0.0 0.0 0.0 1.0 0.0 0.0 8408166.0 73531.0 7888959 0.9]]\n"
     ]
    }
   ],
   "source": [
    "print(x_train)"
   ]
  },
  {
   "cell_type": "code",
   "execution_count": 82,
   "metadata": {
    "colab": {
     "base_uri": "https://localhost:8080/"
    },
    "id": "oVehWU-sMoX7",
    "outputId": "35e78fd9-de3f-468d-e9ff-8809e7d78193"
   },
   "outputs": [
    {
     "name": "stdout",
     "output_type": "stream",
     "text": [
      "[[0.0 1.0 0.0 0.0 0.0 0.0 0.0 0.0 0.0 0.0 21957967.0 611318.0 21151342\n",
      "  2.8]\n",
      " [0.0 0.0 0.0 0.0 0.0 0.0 1.0 0.0 0.0 0.0 5047156.0 87673.0 4889801 1.7]]\n"
     ]
    }
   ],
   "source": [
    "print(x_test)"
   ]
  },
  {
   "cell_type": "code",
   "execution_count": 83,
   "metadata": {
    "colab": {
     "base_uri": "https://localhost:8080/"
    },
    "id": "HOqPlt8xMwaD",
    "outputId": "7928f5a3-7c4e-494a-cf22-3369a11a03d6"
   },
   "outputs": [
    {
     "name": "stdout",
     "output_type": "stream",
     "text": [
      "[5 2 0 1 9 4 8 3]\n"
     ]
    }
   ],
   "source": [
    "print(y_train)"
   ]
  },
  {
   "cell_type": "code",
   "execution_count": 84,
   "metadata": {
    "colab": {
     "base_uri": "https://localhost:8080/"
    },
    "id": "KjwFgNXiM15F",
    "outputId": "ad8a2ea2-691c-43ac-dc46-c18cb676bcfb"
   },
   "outputs": [
    {
     "name": "stdout",
     "output_type": "stream",
     "text": [
      "[6 7]\n"
     ]
    }
   ],
   "source": [
    "print(y_test)"
   ]
  },
  {
   "cell_type": "code",
   "execution_count": 85,
   "metadata": {
    "id": "8wPE4Hb5NLhP"
   },
   "outputs": [],
   "source": [
    "from sklearn.preprocessing import StandardScaler\n",
    "sc = StandardScaler()\n",
    "x_train[:, 3:] = sc.fit_transform(x_train[:, 3:])\n",
    "x_test[:, 3:] = sc.transform(x_test[:, 3:])"
   ]
  },
  {
   "cell_type": "code",
   "execution_count": 86,
   "metadata": {
    "colab": {
     "base_uri": "https://localhost:8080/"
    },
    "id": "dJVHGwyZOC6U",
    "outputId": "b3d5f321-2dfa-4d29-d03c-8be37ffc84bc"
   },
   "outputs": [
    {
     "name": "stdout",
     "output_type": "stream",
     "text": [
      "[[0.0 0.0 0.0 -0.3779644730092272 2.6457513110645903 -0.3779644730092272\n",
      "  0.0 -0.3779644730092272 -0.3779644730092272 -0.3779644730092272\n",
      "  -0.5823209223104918 -0.6190086729904142 -0.565440909770907\n",
      "  -0.27050089040023]\n",
      " [0.0 0.0 0.0 -0.3779644730092272 -0.3779644730092272 2.6457513110645903\n",
      "  0.0 -0.3779644730092272 -0.3779644730092272 -0.3779644730092272\n",
      "  -0.4607187329207765 -0.016392680227565765 -0.5017977139994038\n",
      "  1.8935062328016077]\n",
      " [0.0 0.0 0.0 -0.3779644730092272 -0.3779644730092272 -0.3779644730092272\n",
      "  0.0 -0.3779644730092272 -0.3779644730092272 2.6457513110645903\n",
      "  2.130091022091229 2.2773985874728795 1.8827098647234566\n",
      "  -0.27050089040023]\n",
      " [0.0 0.0 0.0 -0.3779644730092272 -0.3779644730092272 -0.3779644730092272\n",
      "  0.0 -0.3779644730092272 2.6457513110645903 -0.3779644730092272\n",
      "  -0.43054231973814094 -0.5113027570183252 -0.5007963326909799\n",
      "  -0.45083481733371666]\n",
      " [0.0 0.0 1.0 -0.3779644730092272 -0.3779644730092272 -0.3779644730092272\n",
      "  0.0 -0.3779644730092272 -0.3779644730092272 -0.3779644730092272\n",
      "  1.2309070128038175 0.884891330011232 1.5604654705588341\n",
      "  -0.8115026712006896]\n",
      " [0.0 0.0 0.0 2.6457513110645903 -0.3779644730092272 -0.3779644730092272\n",
      "  0.0 -0.3779644730092272 -0.3779644730092272 -0.3779644730092272\n",
      "  -0.6652672869740273 -0.5749669474082287 -0.6684678629230387\n",
      "  0.6311687442672025]\n",
      " [1.0 0.0 0.0 -0.3779644730092272 -0.3779644730092272 -0.3779644730092272\n",
      "  0.0 -0.3779644730092272 -0.3779644730092272 -0.3779644730092272\n",
      "  -0.7146352193114206 -0.6273747726710784 -0.7109261769461094\n",
      "  0.8115026712006892]\n",
      " [0.0 0.0 0.0 -0.3779644730092272 -0.3779644730092272 -0.3779644730092272\n",
      "  0.0 2.6457513110645903 -0.3779644730092272 -0.3779644730092272\n",
      "  -0.5075135536401896 -0.8132440871684989 -0.4957463389518519\n",
      "  -1.5328383789346356]]\n"
     ]
    }
   ],
   "source": [
    "print(x_train)"
   ]
  },
  {
   "cell_type": "code",
   "execution_count": 87,
   "metadata": {
    "colab": {
     "base_uri": "https://localhost:8080/"
    },
    "id": "uVN7n0clOOTM",
    "outputId": "f5096fa3-767b-47dc-e862-fefdcae0c284"
   },
   "outputs": [
    {
     "name": "stdout",
     "output_type": "stream",
     "text": [
      "[[0.0 1.0 0.0 -0.3779644730092272 -0.3779644730092272 -0.3779644730092272\n",
      "  0.0 -0.3779644730092272 -0.3779644730092272 -0.3779644730092272\n",
      "  0.3970879297913825 1.5276402255085881 0.5546928322383776\n",
      "  1.8935062328016077]\n",
      " [0.0 0.0 0.0 -0.3779644730092272 -0.3779644730092272 -0.3779644730092272\n",
      "  1.0 -0.3779644730092272 -0.3779644730092272 -0.3779644730092272\n",
      "  -0.7318987406867262 -0.7516866565316866 -0.7332928676404402\n",
      "  -0.09016696346674373]]\n"
     ]
    }
   ],
   "source": [
    "print(x_test)"
   ]
  }
 ],
 "metadata": {
  "colab": {
   "collapsed_sections": [],
   "name": "Preprocessing_Data.ipynb",
   "provenance": []
  },
  "kernelspec": {
   "display_name": "Python 3 (ipykernel)",
   "language": "python",
   "name": "python3"
  },
  "language_info": {
   "codemirror_mode": {
    "name": "ipython",
    "version": 3
   },
   "file_extension": ".py",
   "mimetype": "text/x-python",
   "name": "python",
   "nbconvert_exporter": "python",
   "pygments_lexer": "ipython3",
   "version": "3.10.10"
  }
 },
 "nbformat": 4,
 "nbformat_minor": 1
}
