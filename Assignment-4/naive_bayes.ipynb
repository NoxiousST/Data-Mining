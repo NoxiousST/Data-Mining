{
 "cells": [
  {
   "cell_type": "markdown",
   "metadata": {
    "colab_type": "text",
    "id": "0MRC0e0KhQ0S"
   },
   "source": [
    "# Naive Bayes"
   ]
  },
  {
   "cell_type": "markdown",
   "metadata": {
    "colab_type": "text",
    "id": "LWd1UlMnhT2s"
   },
   "source": [
    "## Importing the libraries"
   ]
  },
  {
   "cell_type": "code",
   "execution_count": 1,
   "metadata": {
    "colab": {},
    "colab_type": "code",
    "id": "YvGPUQaHhXfL"
   },
   "outputs": [],
   "source": [
    "import numpy as np\n",
    "import matplotlib.pyplot as plt\n",
    "import pandas as pd"
   ]
  },
  {
   "cell_type": "markdown",
   "metadata": {
    "colab_type": "text",
    "id": "K1VMqkGvhc3-"
   },
   "source": [
    "## Importing the dataset"
   ]
  },
  {
   "cell_type": "code",
   "execution_count": 2,
   "metadata": {
    "colab": {},
    "colab_type": "code",
    "id": "M52QDmyzhh9s"
   },
   "outputs": [],
   "source": [
    "dataset = pd.read_csv('Cars.csv')\n",
    "X = dataset.iloc[:, [3, 4]].values\n",
    "y = dataset.iloc[:, -1].values\n",
    "\n",
    "#X=X.astype('int')\n",
    "#y=y.astype('int')"
   ]
  },
  {
   "cell_type": "code",
   "execution_count": 3,
   "metadata": {},
   "outputs": [
    {
     "data": {
      "text/plain": [
       "array([0, 0, 1, 0, 1, 0, 0, 0, 0, 1, 0, 0, 1, 0, 0, 0, 1, 0, 1, 0, 0, 0,\n",
       "       0, 0, 1, 0, 0, 1, 0, 0, 1, 0, 0, 1, 0, 1, 0, 0, 1, 0, 0, 0, 0, 0,\n",
       "       0, 1, 0, 0, 0, 1, 0, 0, 1, 0, 0, 1, 0, 1, 0, 0, 0, 1, 0, 0, 0, 1,\n",
       "       0, 1, 0, 1, 0, 0, 0, 0, 1, 0, 1, 0, 0, 0, 0, 1, 0, 0, 1, 0, 0, 0,\n",
       "       0, 0, 1, 0, 0, 1], dtype=int64)"
      ]
     },
     "execution_count": 3,
     "metadata": {},
     "output_type": "execute_result"
    }
   ],
   "source": [
    "y"
   ]
  },
  {
   "cell_type": "code",
   "execution_count": 4,
   "metadata": {},
   "outputs": [
    {
     "data": {
      "text/plain": [
       "array([[20000, 22000],\n",
       "       [35000, 18000],\n",
       "       [10000, 25000],\n",
       "       [40000, 15000],\n",
       "       [ 5000, 28000],\n",
       "       [45000, 12000],\n",
       "       [30000, 20000],\n",
       "       [38000, 16000],\n",
       "       [25000, 19000],\n",
       "       [15000, 26000],\n",
       "       [55000, 12000],\n",
       "       [28000, 16000],\n",
       "       [ 1000, 35000],\n",
       "       [60000, 10000],\n",
       "       [12000, 22000],\n",
       "       [34000, 13000],\n",
       "       [ 8000, 35000],\n",
       "       [29000, 17000],\n",
       "       [ 2000, 28000],\n",
       "       [48000, 14000],\n",
       "       [45000, 13000],\n",
       "       [15000, 22000],\n",
       "       [25000, 28000],\n",
       "       [30000, 19000],\n",
       "       [ 5000, 30000],\n",
       "       [55000, 16000],\n",
       "       [32000, 22000],\n",
       "       [10000, 32000],\n",
       "       [40000, 20000],\n",
       "       [29000, 22000],\n",
       "       [ 8000, 42000],\n",
       "       [80000, 20000],\n",
       "       [65000, 24000],\n",
       "       [ 5000, 40000],\n",
       "       [20000, 38000],\n",
       "       [15000, 42000],\n",
       "       [45000, 19000],\n",
       "       [34000, 26000],\n",
       "       [12000, 38000],\n",
       "       [22000, 30000],\n",
       "       [70000, 17000],\n",
       "       [12000, 30000],\n",
       "       [32000, 23000],\n",
       "       [40000, 20000],\n",
       "       [20000, 35000],\n",
       "       [10000, 40000],\n",
       "       [30000, 18000],\n",
       "       [15000, 25000],\n",
       "       [35000, 18000],\n",
       "       [ 8000, 25000],\n",
       "       [50000, 17000],\n",
       "       [29000, 21000],\n",
       "       [ 8000, 28000],\n",
       "       [56000, 13000],\n",
       "       [18000, 23000],\n",
       "       [ 3000, 31000],\n",
       "       [36000, 17000],\n",
       "       [ 5000, 32000],\n",
       "       [60000, 15000],\n",
       "       [15000, 25000],\n",
       "       [32000, 24000],\n",
       "       [ 6000, 35000],\n",
       "       [46000, 20000],\n",
       "       [28000, 32000],\n",
       "       [12000, 29000],\n",
       "       [ 8000, 26000],\n",
       "       [39000, 19000],\n",
       "       [ 2000, 36000],\n",
       "       [42000, 18000],\n",
       "       [ 1000, 28000],\n",
       "       [26000, 20000],\n",
       "       [12000, 24000],\n",
       "       [35000, 15000],\n",
       "       [10000, 28000],\n",
       "       [ 2000, 32000],\n",
       "       [40000, 18000],\n",
       "       [ 5000, 22000],\n",
       "       [25000, 19000],\n",
       "       [14000, 30000],\n",
       "       [67000, 25000],\n",
       "       [28000, 30000],\n",
       "       [ 3000, 42000],\n",
       "       [58000, 30000],\n",
       "       [45000, 35000],\n",
       "       [ 8000, 42000],\n",
       "       [55000, 16000],\n",
       "       [22000, 24000],\n",
       "       [13000, 32000],\n",
       "       [47000, 22000],\n",
       "       [35000, 27000],\n",
       "       [ 6000, 38000],\n",
       "       [40000, 21000],\n",
       "       [20000, 28000],\n",
       "       [10000, 35000]], dtype=int64)"
      ]
     },
     "execution_count": 4,
     "metadata": {},
     "output_type": "execute_result"
    }
   ],
   "source": [
    "X"
   ]
  },
  {
   "cell_type": "markdown",
   "metadata": {
    "colab_type": "text",
    "id": "YvxIPVyMhmKp"
   },
   "source": [
    "## Splitting the dataset into the Training set and Test set"
   ]
  },
  {
   "cell_type": "code",
   "execution_count": 5,
   "metadata": {
    "colab": {},
    "colab_type": "code",
    "id": "AVzJWAXIhxoC"
   },
   "outputs": [],
   "source": [
    "from sklearn.model_selection import train_test_split\n",
    "X_train, X_test, y_train, y_test = train_test_split(X, y, test_size = 0.25, random_state = 0)"
   ]
  },
  {
   "cell_type": "code",
   "execution_count": 6,
   "metadata": {},
   "outputs": [
    {
     "data": {
      "text/plain": [
       "array([[32000, 23000],\n",
       "       [35000, 18000],\n",
       "       [ 2000, 32000],\n",
       "       [58000, 30000],\n",
       "       [25000, 19000],\n",
       "       [13000, 32000],\n",
       "       [22000, 24000],\n",
       "       [40000, 15000],\n",
       "       [39000, 19000],\n",
       "       [ 8000, 42000],\n",
       "       [10000, 32000],\n",
       "       [ 2000, 28000],\n",
       "       [18000, 23000],\n",
       "       [ 3000, 31000],\n",
       "       [ 3000, 42000],\n",
       "       [28000, 32000],\n",
       "       [15000, 25000],\n",
       "       [12000, 30000],\n",
       "       [ 5000, 28000],\n",
       "       [34000, 13000],\n",
       "       [29000, 17000],\n",
       "       [70000, 17000],\n",
       "       [12000, 38000],\n",
       "       [45000, 12000],\n",
       "       [55000, 16000],\n",
       "       [56000, 13000],\n",
       "       [20000, 22000],\n",
       "       [20000, 38000],\n",
       "       [40000, 20000],\n",
       "       [50000, 17000],\n",
       "       [28000, 16000],\n",
       "       [15000, 42000],\n",
       "       [30000, 19000],\n",
       "       [ 8000, 28000],\n",
       "       [55000, 12000],\n",
       "       [80000, 20000],\n",
       "       [12000, 24000],\n",
       "       [ 5000, 32000],\n",
       "       [40000, 18000],\n",
       "       [35000, 18000],\n",
       "       [65000, 24000],\n",
       "       [28000, 30000],\n",
       "       [12000, 22000],\n",
       "       [42000, 18000],\n",
       "       [48000, 14000],\n",
       "       [29000, 22000],\n",
       "       [ 8000, 25000],\n",
       "       [40000, 21000],\n",
       "       [20000, 28000],\n",
       "       [ 1000, 28000],\n",
       "       [45000, 13000],\n",
       "       [47000, 22000],\n",
       "       [35000, 15000],\n",
       "       [55000, 16000],\n",
       "       [34000, 26000],\n",
       "       [30000, 18000],\n",
       "       [22000, 30000],\n",
       "       [ 8000, 26000],\n",
       "       [60000, 15000],\n",
       "       [ 1000, 35000],\n",
       "       [26000, 20000],\n",
       "       [45000, 19000],\n",
       "       [15000, 22000],\n",
       "       [45000, 35000],\n",
       "       [15000, 26000],\n",
       "       [ 6000, 38000],\n",
       "       [ 2000, 36000],\n",
       "       [12000, 29000],\n",
       "       [15000, 25000],\n",
       "       [20000, 35000]], dtype=int64)"
      ]
     },
     "execution_count": 6,
     "metadata": {},
     "output_type": "execute_result"
    }
   ],
   "source": [
    "X_train"
   ]
  },
  {
   "cell_type": "code",
   "execution_count": 7,
   "metadata": {},
   "outputs": [
    {
     "data": {
      "text/plain": [
       "array([1, 1, 0, 1, 0, 1, 0, 0, 1, 0, 1, 0, 0, 0, 1, 0, 0, 0, 0, 1, 0, 0,\n",
       "       1, 0], dtype=int64)"
      ]
     },
     "execution_count": 7,
     "metadata": {},
     "output_type": "execute_result"
    }
   ],
   "source": [
    "y_test"
   ]
  },
  {
   "cell_type": "markdown",
   "metadata": {
    "colab_type": "text",
    "id": "kW3c7UYih0hT"
   },
   "source": [
    "## Feature Scaling"
   ]
  },
  {
   "cell_type": "code",
   "execution_count": 8,
   "metadata": {
    "colab": {},
    "colab_type": "code",
    "id": "9fQlDPKCh8sc"
   },
   "outputs": [],
   "source": [
    "from sklearn.preprocessing import StandardScaler\n",
    "sc = StandardScaler()\n",
    "X_train = sc.fit_transform(X_train)\n",
    "X_test = sc.transform(X_test)"
   ]
  },
  {
   "cell_type": "code",
   "execution_count": 9,
   "metadata": {},
   "outputs": [
    {
     "data": {
      "text/plain": [
       "array([[ 0.22561621, -0.18061608],\n",
       "       [ 0.38354756, -0.81277238],\n",
       "       [-1.35369726,  0.95726525],\n",
       "       [ 1.59435455,  0.70440273],\n",
       "       [-0.14289027, -0.68634112],\n",
       "       [-0.77461565,  0.95726525],\n",
       "       [-0.30082161, -0.05418483],\n",
       "       [ 0.64676647, -1.19206616],\n",
       "       [ 0.59412269, -0.68634112],\n",
       "       [-1.03783456,  2.22157784],\n",
       "       [-0.932547  ,  0.95726525],\n",
       "       [-1.35369726,  0.45154021],\n",
       "       [-0.51139674, -0.18061608],\n",
       "       [-1.30105348,  0.83083399],\n",
       "       [-1.30105348,  2.22157784],\n",
       "       [ 0.01504108,  0.95726525],\n",
       "       [-0.66932809,  0.07224643],\n",
       "       [-0.82725944,  0.70440273],\n",
       "       [-1.19576591,  0.45154021],\n",
       "       [ 0.33090377, -1.44492868],\n",
       "       [ 0.06768486, -0.93920364],\n",
       "       [ 2.22607994, -0.93920364],\n",
       "       [-0.82725944,  1.7158528 ],\n",
       "       [ 0.90998538, -1.57135994],\n",
       "       [ 1.4364232 , -1.0656349 ],\n",
       "       [ 1.48906698, -1.44492868],\n",
       "       [-0.40610918, -0.30704734],\n",
       "       [-0.40610918,  1.7158528 ],\n",
       "       [ 0.64676647, -0.55990986],\n",
       "       [ 1.17320429, -0.93920364],\n",
       "       [ 0.01504108, -1.0656349 ],\n",
       "       [-0.66932809,  2.22157784],\n",
       "       [ 0.12032865, -0.68634112],\n",
       "       [-1.03783456,  0.45154021],\n",
       "       [ 1.4364232 , -1.57135994],\n",
       "       [ 2.75251776, -0.55990986],\n",
       "       [-0.82725944, -0.05418483],\n",
       "       [-1.19576591,  0.95726525],\n",
       "       [ 0.64676647, -0.81277238],\n",
       "       [ 0.38354756, -0.81277238],\n",
       "       [ 1.96286102, -0.05418483],\n",
       "       [ 0.01504108,  0.70440273],\n",
       "       [-0.82725944, -0.30704734],\n",
       "       [ 0.75205403, -0.81277238],\n",
       "       [ 1.06791673, -1.31849742],\n",
       "       [ 0.06768486, -0.30704734],\n",
       "       [-1.03783456,  0.07224643],\n",
       "       [ 0.64676647, -0.4334786 ],\n",
       "       [-0.40610918,  0.45154021],\n",
       "       [-1.40634104,  0.45154021],\n",
       "       [ 0.90998538, -1.44492868],\n",
       "       [ 1.01527294, -0.30704734],\n",
       "       [ 0.38354756, -1.19206616],\n",
       "       [ 1.4364232 , -1.0656349 ],\n",
       "       [ 0.33090377,  0.19867769],\n",
       "       [ 0.12032865, -0.81277238],\n",
       "       [-0.30082161,  0.70440273],\n",
       "       [-1.03783456,  0.19867769],\n",
       "       [ 1.69964211, -1.19206616],\n",
       "       [-1.40634104,  1.33655903],\n",
       "       [-0.09024648, -0.55990986],\n",
       "       [ 0.90998538, -0.68634112],\n",
       "       [-0.66932809, -0.30704734],\n",
       "       [ 0.90998538,  1.33655903],\n",
       "       [-0.66932809,  0.19867769],\n",
       "       [-1.14312213,  1.7158528 ],\n",
       "       [-1.35369726,  1.46299029],\n",
       "       [-0.82725944,  0.57797147],\n",
       "       [-0.66932809,  0.07224643],\n",
       "       [-0.40610918,  1.33655903]])"
      ]
     },
     "execution_count": 9,
     "metadata": {},
     "output_type": "execute_result"
    }
   ],
   "source": [
    "X_train"
   ]
  },
  {
   "cell_type": "code",
   "execution_count": 10,
   "metadata": {},
   "outputs": [
    {
     "data": {
      "text/plain": [
       "array([1, 1, 0, 1, 0, 1, 0, 0, 1, 0, 1, 0, 0, 0, 1, 0, 0, 0, 0, 1, 0, 0,\n",
       "       1, 0], dtype=int64)"
      ]
     },
     "execution_count": 10,
     "metadata": {},
     "output_type": "execute_result"
    }
   ],
   "source": [
    "y_test"
   ]
  },
  {
   "cell_type": "markdown",
   "metadata": {
    "colab_type": "text",
    "id": "bb6jCOCQiAmP"
   },
   "source": [
    "## Training the Naive Bayes model on the Training set"
   ]
  },
  {
   "cell_type": "code",
   "execution_count": 11,
   "metadata": {
    "colab": {
     "base_uri": "https://localhost:8080/",
     "height": 34
    },
    "colab_type": "code",
    "executionInfo": {
     "elapsed": 1728,
     "status": "ok",
     "timestamp": 1586365218122,
     "user": {
      "displayName": "Hadelin de Ponteves",
      "photoUrl": "https://lh3.googleusercontent.com/a-/AOh14GhEuXdT7eQweUmRPW8_laJuPggSK6hfvpl5a6WBaA=s64",
      "userId": "15047218817161520419"
     },
     "user_tz": -240
    },
    "id": "e0pFVAmciHQs",
    "outputId": "3859a47c-10a1-43f6-80b5-e20b95e65d8b"
   },
   "outputs": [
    {
     "data": {
      "text/html": [
       "<style>#sk-container-id-1 {color: black;background-color: white;}#sk-container-id-1 pre{padding: 0;}#sk-container-id-1 div.sk-toggleable {background-color: white;}#sk-container-id-1 label.sk-toggleable__label {cursor: pointer;display: block;width: 100%;margin-bottom: 0;padding: 0.3em;box-sizing: border-box;text-align: center;}#sk-container-id-1 label.sk-toggleable__label-arrow:before {content: \"▸\";float: left;margin-right: 0.25em;color: #696969;}#sk-container-id-1 label.sk-toggleable__label-arrow:hover:before {color: black;}#sk-container-id-1 div.sk-estimator:hover label.sk-toggleable__label-arrow:before {color: black;}#sk-container-id-1 div.sk-toggleable__content {max-height: 0;max-width: 0;overflow: hidden;text-align: left;background-color: #f0f8ff;}#sk-container-id-1 div.sk-toggleable__content pre {margin: 0.2em;color: black;border-radius: 0.25em;background-color: #f0f8ff;}#sk-container-id-1 input.sk-toggleable__control:checked~div.sk-toggleable__content {max-height: 200px;max-width: 100%;overflow: auto;}#sk-container-id-1 input.sk-toggleable__control:checked~label.sk-toggleable__label-arrow:before {content: \"▾\";}#sk-container-id-1 div.sk-estimator input.sk-toggleable__control:checked~label.sk-toggleable__label {background-color: #d4ebff;}#sk-container-id-1 div.sk-label input.sk-toggleable__control:checked~label.sk-toggleable__label {background-color: #d4ebff;}#sk-container-id-1 input.sk-hidden--visually {border: 0;clip: rect(1px 1px 1px 1px);clip: rect(1px, 1px, 1px, 1px);height: 1px;margin: -1px;overflow: hidden;padding: 0;position: absolute;width: 1px;}#sk-container-id-1 div.sk-estimator {font-family: monospace;background-color: #f0f8ff;border: 1px dotted black;border-radius: 0.25em;box-sizing: border-box;margin-bottom: 0.5em;}#sk-container-id-1 div.sk-estimator:hover {background-color: #d4ebff;}#sk-container-id-1 div.sk-parallel-item::after {content: \"\";width: 100%;border-bottom: 1px solid gray;flex-grow: 1;}#sk-container-id-1 div.sk-label:hover label.sk-toggleable__label {background-color: #d4ebff;}#sk-container-id-1 div.sk-serial::before {content: \"\";position: absolute;border-left: 1px solid gray;box-sizing: border-box;top: 0;bottom: 0;left: 50%;z-index: 0;}#sk-container-id-1 div.sk-serial {display: flex;flex-direction: column;align-items: center;background-color: white;padding-right: 0.2em;padding-left: 0.2em;position: relative;}#sk-container-id-1 div.sk-item {position: relative;z-index: 1;}#sk-container-id-1 div.sk-parallel {display: flex;align-items: stretch;justify-content: center;background-color: white;position: relative;}#sk-container-id-1 div.sk-item::before, #sk-container-id-1 div.sk-parallel-item::before {content: \"\";position: absolute;border-left: 1px solid gray;box-sizing: border-box;top: 0;bottom: 0;left: 50%;z-index: -1;}#sk-container-id-1 div.sk-parallel-item {display: flex;flex-direction: column;z-index: 1;position: relative;background-color: white;}#sk-container-id-1 div.sk-parallel-item:first-child::after {align-self: flex-end;width: 50%;}#sk-container-id-1 div.sk-parallel-item:last-child::after {align-self: flex-start;width: 50%;}#sk-container-id-1 div.sk-parallel-item:only-child::after {width: 0;}#sk-container-id-1 div.sk-dashed-wrapped {border: 1px dashed gray;margin: 0 0.4em 0.5em 0.4em;box-sizing: border-box;padding-bottom: 0.4em;background-color: white;}#sk-container-id-1 div.sk-label label {font-family: monospace;font-weight: bold;display: inline-block;line-height: 1.2em;}#sk-container-id-1 div.sk-label-container {text-align: center;}#sk-container-id-1 div.sk-container {/* jupyter's `normalize.less` sets `[hidden] { display: none; }` but bootstrap.min.css set `[hidden] { display: none !important; }` so we also need the `!important` here to be able to override the default hidden behavior on the sphinx rendered scikit-learn.org. See: https://github.com/scikit-learn/scikit-learn/issues/21755 */display: inline-block !important;position: relative;}#sk-container-id-1 div.sk-text-repr-fallback {display: none;}</style><div id=\"sk-container-id-1\" class=\"sk-top-container\"><div class=\"sk-text-repr-fallback\"><pre>GaussianNB()</pre><b>In a Jupyter environment, please rerun this cell to show the HTML representation or trust the notebook. <br />On GitHub, the HTML representation is unable to render, please try loading this page with nbviewer.org.</b></div><div class=\"sk-container\" hidden><div class=\"sk-item\"><div class=\"sk-estimator sk-toggleable\"><input class=\"sk-toggleable__control sk-hidden--visually\" id=\"sk-estimator-id-1\" type=\"checkbox\" checked><label for=\"sk-estimator-id-1\" class=\"sk-toggleable__label sk-toggleable__label-arrow\">GaussianNB</label><div class=\"sk-toggleable__content\"><pre>GaussianNB()</pre></div></div></div></div></div>"
      ],
      "text/plain": [
       "GaussianNB()"
      ]
     },
     "execution_count": 11,
     "metadata": {},
     "output_type": "execute_result"
    }
   ],
   "source": [
    "from sklearn.naive_bayes import GaussianNB\n",
    "classifier = GaussianNB()\n",
    "classifier.fit(X_train, y_train)"
   ]
  },
  {
   "cell_type": "markdown",
   "metadata": {
    "colab_type": "text",
    "id": "ZmePIEiiiKyw"
   },
   "source": [
    "## Predicting the Test set results"
   ]
  },
  {
   "cell_type": "code",
   "execution_count": 12,
   "metadata": {
    "colab": {},
    "colab_type": "code",
    "id": "aWK4AcCgiNwF"
   },
   "outputs": [],
   "source": [
    "y_pred = classifier.predict(X_test)"
   ]
  },
  {
   "cell_type": "code",
   "execution_count": 13,
   "metadata": {},
   "outputs": [
    {
     "data": {
      "text/plain": [
       "array([1, 1, 0, 1, 0, 1, 0, 0, 1, 1, 1, 0, 0, 0, 1, 0, 0, 0, 1, 1, 0, 0,\n",
       "       1, 0], dtype=int64)"
      ]
     },
     "execution_count": 13,
     "metadata": {},
     "output_type": "execute_result"
    }
   ],
   "source": [
    "y_pred"
   ]
  },
  {
   "cell_type": "code",
   "execution_count": 14,
   "metadata": {},
   "outputs": [
    {
     "data": {
      "text/plain": [
       "array([1, 1, 0, 1, 0, 1, 0, 0, 1, 0, 1, 0, 0, 0, 1, 0, 0, 0, 0, 1, 0, 0,\n",
       "       1, 0], dtype=int64)"
      ]
     },
     "execution_count": 14,
     "metadata": {},
     "output_type": "execute_result"
    }
   ],
   "source": [
    "y_test"
   ]
  },
  {
   "cell_type": "markdown",
   "metadata": {
    "colab_type": "text",
    "id": "h4Hwj34ziWQW"
   },
   "source": [
    "## Making the Confusion Matrix"
   ]
  },
  {
   "cell_type": "code",
   "execution_count": 15,
   "metadata": {
    "colab": {
     "base_uri": "https://localhost:8080/",
     "height": 50
    },
    "colab_type": "code",
    "executionInfo": {
     "elapsed": 1709,
     "status": "ok",
     "timestamp": 1586365226710,
     "user": {
      "displayName": "Hadelin de Ponteves",
      "photoUrl": "https://lh3.googleusercontent.com/a-/AOh14GhEuXdT7eQweUmRPW8_laJuPggSK6hfvpl5a6WBaA=s64",
      "userId": "15047218817161520419"
     },
     "user_tz": -240
    },
    "id": "D6bpZwUiiXic",
    "outputId": "937faa8e-5a56-4e0c-bf7a-3eac51e672cc"
   },
   "outputs": [
    {
     "name": "stdout",
     "output_type": "stream",
     "text": [
      "[[13  2]\n",
      " [ 0  9]]\n"
     ]
    }
   ],
   "source": [
    "from sklearn.metrics import confusion_matrix\n",
    "cm = confusion_matrix(y_test, y_pred)\n",
    "print(cm)"
   ]
  },
  {
   "cell_type": "code",
   "execution_count": 16,
   "metadata": {},
   "outputs": [
    {
     "data": {
      "image/png": "[encoded data removed]",
      "text/plain": [
       "<Figure size 800x500 with 2 Axes>"
      ]
     },
     "metadata": {},
     "output_type": "display_data"
    }
   ],
   "source": [
    "import seaborn as sns\n",
    "import matplotlib.pyplot as plt\n",
    "f, ax = plt.subplots(figsize=(8,5))\n",
    "sns.heatmap(confusion_matrix(y_test, y_pred), annot=True, fmt=\".0f\", ax=ax)\n",
    "plt.xlabel(\"y_pred\")\n",
    "plt.ylabel(\"y_true\")\n",
    "plt.show()"
   ]
  },
  {
   "cell_type": "code",
   "execution_count": 17,
   "metadata": {},
   "outputs": [
    {
     "name": "stdout",
     "output_type": "stream",
     "text": [
      "              precision    recall  f1-score   support\n",
      "\n",
      "           0       1.00      0.87      0.93        15\n",
      "           1       0.82      1.00      0.90         9\n",
      "\n",
      "    accuracy                           0.92        24\n",
      "   macro avg       0.91      0.93      0.91        24\n",
      "weighted avg       0.93      0.92      0.92        24\n",
      "\n"
     ]
    }
   ],
   "source": [
    "from sklearn.metrics import classification_report\n",
    "print (classification_report(y_test, y_pred))"
   ]
  },
  {
   "cell_type": "markdown",
   "metadata": {
    "colab_type": "text",
    "id": "6OMC_P0diaoD"
   },
   "source": [
    "## Visualising the Training set results"
   ]
  },
  {
   "cell_type": "code",
   "execution_count": 18,
   "metadata": {
    "colab": {
     "base_uri": "https://localhost:8080/",
     "height": 349
    },
    "colab_type": "code",
    "executionInfo": {
     "elapsed": 1839,
     "status": "ok",
     "timestamp": 1586365232656,
     "user": {
      "displayName": "Hadelin de Ponteves",
      "photoUrl": "https://lh3.googleusercontent.com/a-/AOh14GhEuXdT7eQweUmRPW8_laJuPggSK6hfvpl5a6WBaA=s64",
      "userId": "15047218817161520419"
     },
     "user_tz": -240
    },
    "id": "_NOjKvZRid5l",
    "outputId": "71bfe86b-2d5c-4c78-8c0b-823917471b07"
   },
   "outputs": [
    {
     "name": "stderr",
     "output_type": "stream",
     "text": [
      "C:\\Users\\LENOVO\\AppData\\Local\\Temp\\ipykernel_1900\\3477755713.py:10: UserWarning: *c* argument looks like a single numeric RGB or RGBA sequence, which should be avoided as value-mapping will have precedence in case its length matches with *x* & *y*.  Please use the *color* keyword-argument or provide a 2D array with a single row if you intend to specify the same RGB or RGBA value for all points.\n",
      "  plt.scatter(X_set[y_set == j, 0], X_set[y_set == j, 1],\n"
     ]
    },
    {
     "data": {
      "image/png": "[encoded data removed]",
      "text/plain": [
       "<Figure size 640x480 with 1 Axes>"
      ]
     },
     "metadata": {},
     "output_type": "display_data"
    }
   ],
   "source": [
    "from matplotlib.colors import ListedColormap\n",
    "X_set, y_set = X_train, y_train\n",
    "X1, X2 = np.meshgrid(np.arange(start = X_set[:, 0].min() - 1, stop = X_set[:, 0].max() + 1, step = 0.01),\n",
    "                     np.arange(start = X_set[:, 1].min() - 1, stop = X_set[:, 1].max() + 1, step = 0.01))\n",
    "plt.contourf(X1, X2, classifier.predict(np.array([X1.ravel(), X2.ravel()]).T).reshape(X1.shape),\n",
    "             alpha = 0.75, cmap = ListedColormap(('red', 'green')))\n",
    "plt.xlim(X1.min(), X1.max())\n",
    "plt.ylim(X2.min(), X2.max())\n",
    "for i, j in enumerate(np.unique(y_set)):\n",
    "    plt.scatter(X_set[y_set == j, 0], X_set[y_set == j, 1],\n",
    "                c = ListedColormap(('red', 'green'))(i), label = j)\n",
    "plt.title('Naive Bayes (Training set)')\n",
    "plt.xlabel('Mileage')\n",
    "plt.ylabel('Price')\n",
    "plt.legend()\n",
    "plt.show()"
   ]
  },
  {
   "cell_type": "markdown",
   "metadata": {
    "colab_type": "text",
    "id": "SZ-j28aPihZx"
   },
   "source": [
    "## Visualising the Test set results"
   ]
  },
  {
   "cell_type": "code",
   "execution_count": 19,
   "metadata": {
    "colab": {
     "base_uri": "https://localhost:8080/",
     "height": 349
    },
    "colab_type": "code",
    "executionInfo": {
     "elapsed": 2425,
     "status": "ok",
     "timestamp": 1586365240015,
     "user": {
      "displayName": "Hadelin de Ponteves",
      "photoUrl": "https://lh3.googleusercontent.com/a-/AOh14GhEuXdT7eQweUmRPW8_laJuPggSK6hfvpl5a6WBaA=s64",
      "userId": "15047218817161520419"
     },
     "user_tz": -240
    },
    "id": "qeTjz2vDilAC",
    "outputId": "527a23a2-5b72-46f4-b6a4-9c4208ea0d39"
   },
   "outputs": [
    {
     "name": "stderr",
     "output_type": "stream",
     "text": [
      "C:\\Users\\LENOVO\\AppData\\Local\\Temp\\ipykernel_1900\\1300220105.py:10: UserWarning: *c* argument looks like a single numeric RGB or RGBA sequence, which should be avoided as value-mapping will have precedence in case its length matches with *x* & *y*.  Please use the *color* keyword-argument or provide a 2D array with a single row if you intend to specify the same RGB or RGBA value for all points.\n",
      "  plt.scatter(X_set[y_set == j, 0], X_set[y_set == j, 1],\n"
     ]
    },
    {
     "data": {
      "image/png": "[encoded data removed]",
      "text/plain": [
       "<Figure size 640x480 with 1 Axes>"
      ]
     },
     "metadata": {},
     "output_type": "display_data"
    }
   ],
   "source": [
    "from matplotlib.colors import ListedColormap\n",
    "X_set, y_set = X_test, y_test\n",
    "X1, X2 = np.meshgrid(np.arange(start = X_set[:, 0].min() - 1, stop = X_set[:, 0].max() + 1, step = 0.01),\n",
    "                     np.arange(start = X_set[:, 1].min() - 1, stop = X_set[:, 1].max() + 1, step = 0.01))\n",
    "plt.contourf(X1, X2, classifier.predict(np.array([X1.ravel(), X2.ravel()]).T).reshape(X1.shape),\n",
    "             alpha = 0.75, cmap = ListedColormap(('red', 'green')))\n",
    "plt.xlim(X1.min(), X1.max())\n",
    "plt.ylim(X2.min(), X2.max())\n",
    "for i, j in enumerate(np.unique(y_set)):\n",
    "    plt.scatter(X_set[y_set == j, 0], X_set[y_set == j, 1],\n",
    "                c = ListedColormap(('red', 'green'))(i), label = j)\n",
    "plt.title('Naive Bayes (Test set)')\n",
    "plt.xlabel('Mileage')\n",
    "plt.ylabel('Price')\n",
    "plt.legend()\n",
    "plt.show()"
   ]
  },
  {
   "cell_type": "code",
   "execution_count": null,
   "metadata": {},
   "outputs": [],
   "source": []
  }
 ],
 "metadata": {
  "colab": {
   "authorship_tag": "ABX9TyOZLyqO8nQzhvqMShXecuGG",
   "collapsed_sections": [],
   "name": "Naive Bayes",
   "provenance": [],
   "toc_visible": true
  },
  "kernelspec": {
   "display_name": "Python 3 (ipykernel)",
   "language": "python",
   "name": "python3"
  },
  "language_info": {
   "codemirror_mode": {
    "name": "ipython",
    "version": 3
   },
   "file_extension": ".py",
   "mimetype": "text/x-python",
   "name": "python",
   "nbconvert_exporter": "python",
   "pygments_lexer": "ipython3",
   "version": "3.10.10"
  }
 },
 "nbformat": 4,
 "nbformat_minor": 2
}
